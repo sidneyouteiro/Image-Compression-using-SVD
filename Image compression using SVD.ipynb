{
 "cells": [
  {
   "cell_type": "code",
   "execution_count": null,
   "metadata": {},
   "outputs": [],
   "source": [
    "import numpy as np\n",
    "import matplotlib.pyplot as plt\n",
    "import os\n",
    "from PIL import Image\n",
    "\n",
    "\n",
    "%matplotlib inline"
   ]
  },
  {
   "cell_type": "code",
   "execution_count": null,
   "metadata": {},
   "outputs": [],
   "source": [
    "def SVD (B, k):\n",
    "    U, Sigma, V = np.linalg.svd(B.copy())\n",
    "    compressed = np.matrix(U[:,:k]) * np.diag(Sigma[:k]) * np.matrix(V[:k,:])\n",
    "    return compressed"
   ]
  },
  {
   "cell_type": "code",
   "execution_count": null,
   "metadata": {},
   "outputs": [],
   "source": [
    "def compression_rgb(A):\n",
    "    k = 280 #this is the number of singular values, change them to see how sharpness is affected (Use 1<=k<=421)\n",
    "    B = A.copy()\n",
    "    img_layers = np.zeros(B.shape)\n",
    "    for i in range(3):\n",
    "        img_layers[:,:,i] = SVD(B[:,:,i],k)\n",
    "    plt.figure(figsize=(9,6))\n",
    "    plt.imshow(img_layers.astype(np.uint8))\n",
    "    result = Image.fromarray((img_layers).astype(np.uint8))\n",
    "    result.save('compressed.jpg')\n",
    "    size = float(os.path.getsize('./compressed.jpg'))/1000\n",
    "    plt.title(\"k = {} & {} Kb\".format(k,size))\n",
    "    plt.show()\n",
    "    "
   ]
  },
  {
   "cell_type": "code",
   "execution_count": null,
   "metadata": {},
   "outputs": [],
   "source": []
  },
  {
   "cell_type": "code",
   "execution_count": null,
   "metadata": {
    "scrolled": false
   },
   "outputs": [],
   "source": [
    "path = './teste.jpg'\n",
    "img = Image.open(path)\n",
    "Matrix = np.asarray(img)\n",
    "s = float(os.path.getsize(path))/1000\n",
    "\n",
    "plt.figure(figsize=(9, 6))\n",
    "plt.imshow(img)\n",
    "plt.title(\"{:.2f} Kb\".format(s))\n",
    "plt.show()\n",
    "\n",
    "compression_rgb(Matrix)"
   ]
  }
 ],
 "metadata": {
  "kernelspec": {
   "display_name": "Python 3",
   "language": "python",
   "name": "python3"
  },
  "language_info": {
   "codemirror_mode": {
    "name": "ipython",
    "version": 3
   },
   "file_extension": ".py",
   "mimetype": "text/x-python",
   "name": "python",
   "nbconvert_exporter": "python",
   "pygments_lexer": "ipython3",
   "version": "3.7.4"
  }
 },
 "nbformat": 4,
 "nbformat_minor": 2
}
